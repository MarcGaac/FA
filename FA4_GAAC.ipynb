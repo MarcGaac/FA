{
  "nbformat": 4,
  "nbformat_minor": 0,
  "metadata": {
    "colab": {
      "provenance": [],
      "authorship_tag": "ABX9TyOib6xUu/dHS6hlwz3LiG+T",
      "include_colab_link": true
    },
    "kernelspec": {
      "name": "python3",
      "display_name": "Python 3"
    },
    "language_info": {
      "name": "python"
    }
  },
  "cells": [
    {
      "cell_type": "markdown",
      "metadata": {
        "id": "view-in-github",
        "colab_type": "text"
      },
      "source": [
        "<a href=\"https://colab.research.google.com/github/MarcGaac/FA/blob/main/FA4_GAAC.ipynb\" target=\"_parent\"><img src=\"https://colab.research.google.com/assets/colab-badge.svg\" alt=\"Open In Colab\"/></a>"
      ]
    },
    {
      "cell_type": "markdown",
      "source": [
        "P-4.24 Write a program for solving summation puzzles by enumerating and test\n",
        "ing all possible configurations. Using your program, solve the three puz\n",
        "zles given in Section 4.4.3."
      ],
      "metadata": {
        "id": "ZUBvsdnjJFHp"
      }
    },
    {
      "source": [
        "def puzzle_solve(k, S, U):\n",
        "    \"\"\"\n",
        "    Enumerate all k-length extensions to S using elements in U without repetitions\n",
        "    and test each configuration to solve the puzzle.\n",
        "    \"\"\"\n",
        "    if k == 0: # Change from k==1 to k==0\n",
        "        # Test whether S is a configuration that solves the puzzle\n",
        "        if is_solution(S):\n",
        "            return \"Solution found: \" + str(S)\n",
        "    else:\n",
        "        for e in list(U): # Convert U to a list to avoid errors during iteration\n",
        "            # Add e to the end of S\n",
        "            S.append(e)\n",
        "            # Remove e from U\n",
        "            U.remove(e)\n",
        "            # Recursively call puzzle_solve with k-1\n",
        "            result = puzzle_solve(k-1, S, U)\n",
        "            if result:\n",
        "                return result\n",
        "            # Remove e from the end of S\n",
        "            S.pop()\n",
        "            # Add e back to U\n",
        "            U.add(e)\n",
        "\n",
        "def is_solution(S):\n",
        "    \"\"\"\n",
        "    Test whether the configuration S solves the puzzle.\n",
        "    \"\"\"\n",
        "    # Check if S has enough elements before accessing them\n",
        "    if len(S) < 9: # Or len(S) != 9 depending on your requirement.\n",
        "        return False\n",
        "\n",
        "    # Implement the logic to test whether S solves the puzzle\n",
        "    # For example, for the puzzle \"pot + pan = bib\", we can use the following logic:\n",
        "    pot = S[0] * 100 + S[1] * 10 + S[2]\n",
        "    pan = S[3] * 100 + S[4] * 10 + S[5]\n",
        "    bib = S[6] * 100 + S[7] * 10 + S[8]\n",
        "    return pot + pan == bib\n",
        "\n",
        "def solve_puzzle(puzzle):\n",
        "    \"\"\"\n",
        "    Solve the given puzzle by enumerating and testing all possible configurations.\n",
        "    \"\"\"\n",
        "    U = set(range(10))  # Universe of digits 0-9\n",
        "    S = []  # Initialize the sequence\n",
        "    k = len(puzzle[0]) + len(puzzle[1]) + len(puzzle[2])  # Length of the sequence\n",
        "    return puzzle_solve(k, S, U)\n",
        "\n",
        "# Test the program with the three puzzles\n",
        "puzzles = [\n",
        "    (\"pot\", \"pan\", \"bib\"),\n",
        "    (\"dog\", \"cat\", \"pig\"),\n",
        "    (\"boy\", \"girl\", \"baby\")\n",
        "]\n",
        "\n",
        "for puzzle in puzzles:\n",
        "    result = solve_puzzle(puzzle)\n",
        "    print(result)"
      ],
      "cell_type": "code",
      "metadata": {
        "colab": {
          "base_uri": "https://localhost:8080/"
        },
        "id": "ecnhTn-_OmwQ",
        "outputId": "f8f88b06-cabe-416d-d6c1-50527321a28e"
      },
      "execution_count": 2,
      "outputs": [
        {
          "output_type": "stream",
          "name": "stdout",
          "text": [
            "Solution found: [0, 2, 7, 3, 8, 9, 4, 1, 6]\n",
            "Solution found: [0, 2, 7, 3, 8, 9, 4, 1, 6]\n",
            "None\n"
          ]
        }
      ]
    },
    {
      "cell_type": "markdown",
      "source": [
        " P-4.25 Provide a nonrecursive implementation of the draw interval function for\n",
        " the English ruler project of Section 4.1.2. There should be precisely 2c−1\n",
        " lines of output if c represents the length of the center tick. If incrementing\n",
        " a counter from 0 to 2c−2, the number of dashes for each tick line should\n",
        " be exactly one more than the number of consecutive 1’s at the end of the\n",
        " binary representation of the counter."
      ],
      "metadata": {
        "id": "0sTmK0fMQD4M"
      }
    },
    {
      "cell_type": "code",
      "source": [
        "def cons_1(n):\n",
        "    # Calculate the number of consecutive 1's at the end of the binary representation\n",
        "    cnt = 0\n",
        "    while n & 1:\n",
        "        cnt += 1\n",
        "        n >>= 1\n",
        "    return cnt\n",
        "\n",
        "def draw_interval(c):\n",
        "    for i in range(2**c - 1):\n",
        "        dashes = cons_1(i) + 1\n",
        "        print('-' * dashes)\n",
        "\n",
        "# Test the function\n",
        "draw_interval(5)"
      ],
      "metadata": {
        "colab": {
          "base_uri": "https://localhost:8080/"
        },
        "id": "AsylZuyIP7lF",
        "outputId": "2d8a263d-60fc-415a-f3c7-3ed0f878447f"
      },
      "execution_count": 5,
      "outputs": [
        {
          "output_type": "stream",
          "name": "stdout",
          "text": [
            "-\n",
            "--\n",
            "-\n",
            "---\n",
            "-\n",
            "--\n",
            "-\n",
            "----\n",
            "-\n",
            "--\n",
            "-\n",
            "---\n",
            "-\n",
            "--\n",
            "-\n",
            "-----\n",
            "-\n",
            "--\n",
            "-\n",
            "---\n",
            "-\n",
            "--\n",
            "-\n",
            "----\n",
            "-\n",
            "--\n",
            "-\n",
            "---\n",
            "-\n",
            "--\n",
            "-\n"
          ]
        }
      ]
    }
  ]
}