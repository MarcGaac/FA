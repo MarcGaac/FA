{
  "nbformat": 4,
  "nbformat_minor": 0,
  "metadata": {
    "colab": {
      "provenance": [],
      "authorship_tag": "ABX9TyPlGiwT4HF4N85NB3VyZcBQ",
      "include_colab_link": true
    },
    "kernelspec": {
      "name": "python3",
      "display_name": "Python 3"
    },
    "language_info": {
      "name": "python"
    }
  },
  "cells": [
    {
      "cell_type": "markdown",
      "metadata": {
        "id": "view-in-github",
        "colab_type": "text"
      },
      "source": [
        "<a href=\"https://colab.research.google.com/github/MarcGaac/FA/blob/main/FA4_GAAC.ipynb\" target=\"_parent\"><img src=\"https://colab.research.google.com/assets/colab-badge.svg\" alt=\"Open In Colab\"/></a>"
      ]
    },
    {
      "cell_type": "markdown",
      "source": [
        " P 4.23 Implement a recursive function with signature find(path, filename) that\n",
        " reports all entries of the file system rooted at the given path having the\n",
        " given file name."
      ],
      "metadata": {
        "id": "g_3bZltxG_g_"
      }
    },
    {
      "cell_type": "code",
      "source": [
        "import os\n",
        "\n",
        "def find(path, filename):\n",
        "    \"\"\"\n",
        "    Recursively searches for files with the given filename in the file system\n",
        "    rooted at the given path.\n",
        "\n",
        "    Args:\n",
        "        path (str): The root directory to search from.\n",
        "        filename (str): The filename to search for.\n",
        "\n",
        "    Returns:\n",
        "        A list of paths to files with the given filename.\n",
        "    \"\"\"\n",
        "    result = []\n",
        "\n",
        "    # Iterate over the entries in the current directory\n",
        "    for entry in os.listdir(path):\n",
        "        entry_path = os.path.join(path, entry)\n",
        "\n",
        "        # If the entry is a file and matches the filename, add it to the result\n",
        "        if os.path.isfile(entry_path) and entry == filename:\n",
        "            result.append(entry_path)\n",
        "        # If the entry is a directory, recursively search it\n",
        "        elif os.path.isdir(entry_path):\n",
        "            result.extend(find(entry_path, filename))\n",
        "\n",
        "    return result\n",
        "\n",
        "# Create a sample directory structure\n",
        "root_dir = 'example_root'\n",
        "os.mkdir(root_dir)\n",
        "\n",
        "# Create some sample files\n",
        "with open(os.path.join(root_dir, 'example.txt'), 'w') as f:\n",
        "    f.write('This is an example file.')\n",
        "\n",
        "os.mkdir(os.path.join(root_dir, 'subdir'))\n",
        "with open(os.path.join(root_dir, 'subdir', 'example.txt'), 'w') as f:\n",
        "    f.write('This is another example file.')\n",
        "\n",
        "os.mkdir(os.path.join(root_dir, 'subdir', 'subsubdir'))\n",
        "with open(os.path.join(root_dir, 'subdir', 'subsubdir', 'example.txt'), 'w') as f:\n",
        "    f.write('This is yet another example file.')\n",
        "\n",
        "# Call the find function\n",
        "paths = find(root_dir, 'example.txt')\n",
        "\n",
        "# Print the output\n",
        "print('Found files:')\n",
        "for path in paths:\n",
        "    print(path)\n",
        "\n",
        "# Output:\n",
        "# Found files:\n",
        "# example_root/example.txt\n",
        "# example_root/subdir/example.txt\n",
        "# example_root/subdir/subsubdir/example.txt"
      ],
      "metadata": {
        "colab": {
          "base_uri": "https://localhost:8080/"
        },
        "id": "_39vXxuxG-P6",
        "outputId": "59224363-7f86-4811-e3b7-61b7eb53bc83"
      },
      "execution_count": 2,
      "outputs": [
        {
          "output_type": "stream",
          "name": "stdout",
          "text": [
            "Found files:\n",
            "example_root/subdir/subsubdir/example.txt\n",
            "example_root/subdir/example.txt\n",
            "example_root/example.txt\n"
          ]
        }
      ]
    },
    {
      "cell_type": "markdown",
      "source": [
        "P 4.27 Python’s os module provides a function with signature walk(path) that\n",
        " is a generator yielding the tuple (dirpath, dirnames, filenames) for each\n",
        " subdirectory of the directory identified by string path, such that string\n",
        " dirpath is the full path to the subdirectory, dirnames is a list of the names\n",
        " of the subdirectories within dirpath,andfilenames is a list of the names\n",
        " of non-directory entries of dirpath. For example, when visiting the cs016\n",
        " subdirectory of the file system shown in Figure 4.6, the walk would yield\n",
        " ( /user/rt/courses/cs016 , [ homeworks , programs ], [ grades ]).\n",
        " Give your own implementation of such a walk function."
      ],
      "metadata": {
        "id": "ZUBvsdnjJFHp"
      }
    },
    {
      "cell_type": "code",
      "source": [
        "import os\n",
        "\n",
        "def walk(path):\n",
        "    \"\"\"\n",
        "    Yields a tuple (dirpath, dirnames, filenames) for each subdirectory of the\n",
        "    directory identified by the string path.\n",
        "\n",
        "    Args:\n",
        "        path (str): The path to the directory to walk.\n",
        "\n",
        "    Yields:\n",
        "        A tuple (dirpath, dirnames, filenames) for each subdirectory, where:\n",
        "            dirpath (str): The full path to the subdirectory.\n",
        "            dirnames (list[str]): A list of the names of the subdirectories within dirpath.\n",
        "            filenames (list[str]): A list of the names of non-directory entries of dirpath.\n",
        "    \"\"\"\n",
        "    for root, dirs, files in _walk_helper(path):\n",
        "        yield (root, dirs, files)\n",
        "\n",
        "def _walk_helper(path):\n",
        "    \"\"\"\n",
        "    A helper function to recursively walk the directory tree.\n",
        "\n",
        "    Args:\n",
        "        path (str): The current directory to process.\n",
        "\n",
        "    Yields:\n",
        "        A tuple (root, dirs, files) for each subdirectory, where:\n",
        "            root (str): The full path to the subdirectory.\n",
        "            dirs (list[str]): A list of the names of the subdirectories within root.\n",
        "            files (list[str]): A list of the names of non-directory entries of root.\n",
        "    \"\"\"\n",
        "    root = path\n",
        "    dirs = []\n",
        "    files = []\n",
        "\n",
        "    # Iterate over the entries in the current directory\n",
        "    for entry in os.listdir(path):\n",
        "        entry_path = os.path.join(path, entry)\n",
        "\n",
        "        # If the entry is a directory, add it to the dirs list\n",
        "        if os.path.isdir(entry_path):\n",
        "            dirs.append(entry)\n",
        "        # If the entry is a file, add it to the files list\n",
        "        else:\n",
        "            files.append(entry)\n",
        "\n",
        "    # Yield the current directory\n",
        "    yield (root, dirs, files)\n",
        "\n",
        "    # Recursively walk the subdirectories\n",
        "    for dir in dirs:\n",
        "        dir_path = os.path.join(path, dir)\n",
        "        yield from _walk_helper(dir_path)\n",
        "\n",
        "# Create a sample directory structure\n",
        "root_dir = 'example_root'\n",
        "# Check if the directory already exists before creating it\n",
        "if not os.path.exists(root_dir):\n",
        "    os.mkdir(root_dir)\n",
        "\n",
        "# Create some sample subdirectories and files\n",
        "os.mkdir(os.path.join(root_dir, 'subdir1'))\n",
        "os.mkdir(os.path.join(root_dir, 'subdir2'))\n",
        "os.mkdir(os.path.join(root_dir, 'subdir1', 'subsubdir1'))\n",
        "os.mkdir(os.path.join(root_dir, 'subdir2', 'subsubdir2'))\n",
        "\n",
        "with open(os.path.join(root_dir, 'file1.txt'), 'w') as f:\n",
        "    f.write('This is a sample file.')\n",
        "\n",
        "with open(os.path.join(root_dir, 'subdir1', 'file2.txt'), 'w') as f:\n",
        "    f.write('This is another sample file.')\n",
        "\n",
        "with open(os.path.join(root_dir, 'subdir2', 'file3.txt'), 'w') as f:\n",
        "    f.write('This is yet another sample file.')\n",
        "\n",
        "# Call the walk function\n",
        "for dirpath, dirnames, filenames in walk(root_dir):\n",
        "    print(f\"Dirpath: {dirpath}, Dirnames: {dirnames}, Filenames: {filenames}\")\n",
        "\n",
        "# Output:\n",
        "# Dirpath: example_root, Dirnames: ['subdir1', 'subdir2'], Filenames: ['file1.txt']\n",
        "# Dirpath: example_root/subdir1, Dirnames: ['subsubdir1'], Filenames: ['file2.txt']\n",
        "# Dirpath: example_root/subdir1/subsubdir1, Dirnames: [], Filenames: []\n",
        "# Dirpath: example_root/subdir2, Dirnames: ['subsubdir2'], Filenames: ['file3.txt']\n",
        "# Dirpath: example_root"
      ],
      "metadata": {
        "colab": {
          "base_uri": "https://localhost:8080/"
        },
        "id": "WE2YF7b4JGWK",
        "outputId": "c3f7626a-98fc-4cd6-ceb5-db588ad91599"
      },
      "execution_count": 4,
      "outputs": [
        {
          "output_type": "stream",
          "name": "stdout",
          "text": [
            "Dirpath: example_root, Dirnames: ['subdir', 'subdir1', 'subdir2'], Filenames: ['example.txt', 'file1.txt']\n",
            "Dirpath: example_root/subdir, Dirnames: ['subsubdir'], Filenames: ['example.txt']\n",
            "Dirpath: example_root/subdir/subsubdir, Dirnames: [], Filenames: ['example.txt']\n",
            "Dirpath: example_root/subdir1, Dirnames: ['subsubdir1'], Filenames: ['file2.txt']\n",
            "Dirpath: example_root/subdir1/subsubdir1, Dirnames: [], Filenames: []\n",
            "Dirpath: example_root/subdir2, Dirnames: ['subsubdir2'], Filenames: ['file3.txt']\n",
            "Dirpath: example_root/subdir2/subsubdir2, Dirnames: [], Filenames: []\n"
          ]
        }
      ]
    }
  ]
}