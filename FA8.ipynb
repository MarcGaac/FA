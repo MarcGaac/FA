{
  "nbformat": 4,
  "nbformat_minor": 0,
  "metadata": {
    "colab": {
      "provenance": [],
      "authorship_tag": "ABX9TyNt4lrqrskzDxhehkLa/EFb",
      "include_colab_link": true
    },
    "kernelspec": {
      "name": "python3",
      "display_name": "Python 3"
    },
    "language_info": {
      "name": "python"
    }
  },
  "cells": [
    {
      "cell_type": "markdown",
      "metadata": {
        "id": "view-in-github",
        "colab_type": "text"
      },
      "source": [
        "<a href=\"https://colab.research.google.com/github/MarcGaac/FA/blob/main/FA8.ipynb\" target=\"_parent\"><img src=\"https://colab.research.google.com/assets/colab-badge.svg\" alt=\"Open In Colab\"/></a>"
      ]
    },
    {
      "cell_type": "markdown",
      "source": [
        "1. Create an exponent calculator using both iterations and recursion, with rendering time."
      ],
      "metadata": {
        "id": "0uAzyQpsM5rY"
      }
    },
    {
      "cell_type": "code",
      "execution_count": null,
      "metadata": {
        "colab": {
          "base_uri": "https://localhost:8080/"
        },
        "id": "iUvdqWN41pcN",
        "outputId": "828a342c-b68c-45fe-8ea4-428193f01655"
      },
      "outputs": [
        {
          "output_type": "stream",
          "name": "stdout",
          "text": [
            "Enter the base: 10\n",
            "Enter the exponent: 1\n",
            "Iterative Exponent Result: 10, Rendering Time: 7.62939453125e-06 seconds\n",
            "Recursive Exponent Result: 10, Rendering Time: 1.6689300537109375e-06 seconds\n"
          ]
        }
      ],
      "source": [
        "import time\n",
        "\n",
        "def iterative_exponent(base, exponent):\n",
        "    result = 1\n",
        "    for _ in range(exponent):\n",
        "        result *= base\n",
        "    return result\n",
        "\n",
        "def recursive_exponent(base, exponent):\n",
        "    if exponent == 0:\n",
        "        return 1\n",
        "    elif exponent == 1:\n",
        "        return base\n",
        "    else:\n",
        "        return base * recursive_exponent(base, exponent - 1)\n",
        "\n",
        "def calculate_exponent_performance():\n",
        "    base = int(input(\"Enter the base: \"))\n",
        "    exponent = int(input(\"Enter the exponent: \"))\n",
        "\n",
        "    # Measure rendering time for iterative exponent calculation\n",
        "    start_time = time.time()\n",
        "    result_iter = iterative_exponent(base, exponent)\n",
        "    end_time = time.time()\n",
        "    rendering_time_iter = end_time - start_time\n",
        "\n",
        "    # Measure rendering time for recursive exponent calculation\n",
        "    start_time = time.time()\n",
        "    result_rec = recursive_exponent(base, exponent)\n",
        "    end_time = time.time()\n",
        "    rendering_time_rec = end_time - start_time\n",
        "\n",
        "    # Display results and rendering times\n",
        "    print(f\"Iterative Exponent Result: {result_iter}, Rendering Time: {rendering_time_iter} seconds\")\n",
        "    print(f\"Recursive Exponent Result: {result_rec}, Rendering Time: {rendering_time_rec} seconds\")\n",
        "\n",
        "calculate_exponent_performance()"
      ]
    },
    {
      "cell_type": "markdown",
      "source": [
        "2. Iteratively and recursively calculate the sum of the first n powers of 2, along with the rendering time of each function using the time module."
      ],
      "metadata": {
        "id": "HK-3ncacM8BH"
      }
    },
    {
      "cell_type": "code",
      "source": [
        "import time\n",
        "\n",
        "def iterative_sum_of_powers(n):\n",
        "    result = 0\n",
        "    for i in range(n):\n",
        "        result += 2 ** i\n",
        "    return result\n",
        "\n",
        "def recursive_sum_of_powers(n):\n",
        "    if n == 0:\n",
        "        return 0\n",
        "    else:\n",
        "        return 2 ** (n - 1) + recursive_sum_of_powers(n - 1)\n",
        "\n",
        "def calculate_sum_of_powers_performance():\n",
        "    n = int(input(\"Enter the value of n: \"))\n",
        "\n",
        "    # Measure rendering time for iterative sum of powers calculation\n",
        "    start_time = time.time()\n",
        "    result_iter = iterative_sum_of_powers(n)\n",
        "    end_time = time.time()\n",
        "    rendering_time_iter = end_time - start_time\n",
        "\n",
        "    # Measure rendering time for recursive sum of powers calculation\n",
        "    start_time = time.time()\n",
        "    result_rec = recursive_sum_of_powers(n)\n",
        "    end_time = time.time()\n",
        "    rendering_time_rec = end_time - start_time\n",
        "\n",
        "    # Display results and rendering times\n",
        "    print(f\"Iterative Sum of Powers Result: {result_iter}, Rendering Time: {rendering_time_iter} seconds\")\n",
        "    print(f\"Recursive Sum of Powers Result: {result_rec}, Rendering Time: {rendering_time_rec} seconds\")\n",
        "\n",
        "calculate_sum_of_powers_performance()"
      ],
      "metadata": {
        "colab": {
          "base_uri": "https://localhost:8080/"
        },
        "id": "uCLk28ac6FkN",
        "outputId": "51156e5b-eec9-442c-fc32-c8518c63f204"
      },
      "execution_count": null,
      "outputs": [
        {
          "output_type": "stream",
          "name": "stdout",
          "text": [
            "Enter the value of n: 20\n",
            "Iterative Sum of Powers Result: 1048575, Rendering Time: 3.170967102050781e-05 seconds\n",
            "Recursive Sum of Powers Result: 1048575, Rendering Time: 3.147125244140625e-05 seconds\n"
          ]
        }
      ]
    }
  ]
}