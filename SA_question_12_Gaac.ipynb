{
  "nbformat": 4,
  "nbformat_minor": 0,
  "metadata": {
    "colab": {
      "provenance": [],
      "authorship_tag": "ABX9TyOOsj1g1nBCR7l2DmUYim9T",
      "include_colab_link": true
    },
    "kernelspec": {
      "name": "python3",
      "display_name": "Python 3"
    },
    "language_info": {
      "name": "python"
    }
  },
  "cells": [
    {
      "cell_type": "markdown",
      "metadata": {
        "id": "view-in-github",
        "colab_type": "text"
      },
      "source": [
        "<a href=\"https://colab.research.google.com/github/MarcGaac/FA/blob/main/SA_question_12_Gaac.ipynb\" target=\"_parent\"><img src=\"https://colab.research.google.com/assets/colab-badge.svg\" alt=\"Open In Colab\"/></a>"
      ]
    },
    {
      "cell_type": "markdown",
      "source": [
        "Write a Python program that simulates a music streaming service. Your system should support the following functionalities:\n",
        "\n",
        "Users can \"subscribe\" to different music genres.\n",
        "Users can view their subscribed genres and discover new music.\n",
        "Users can play a list of songs from their subscribed genres.\n",
        "To implement this system, you will need to gather songs from various genres that are available for free or in the public domain on the Internet. Each genre should have a collection of songs that users can browse and play.\n",
        "\n",
        "Requirements:\n",
        "Implement a MusicStreamingService class with methods for subscribing to genres, viewing subscriptions, and playing songs.\n",
        "Create a Song class that includes attributes like title, artist, and duration.\n",
        "Ensure that users can browse available genres and the songs within each genre before making a subscription.\n",
        "Use an external source (like a public domain music database or website) to populate your list of available songs for users to explore.\n",
        "Bonus:\n",
        "Allow users to create custom playlists based on their subscribed genres and save them for later playback.\n",
        "Implement a feature to search for songs by title or artist."
      ],
      "metadata": {
        "id": "lYAQqB15Fvz-"
      }
    },
    {
      "cell_type": "code",
      "source": [
        "import requests\n",
        "from bs4 import BeautifulSoup\n",
        "\n",
        "class Song:\n",
        "    def __init__(self, title, artist, duration, genre):\n",
        "        self.title = title\n",
        "        self.artist = artist\n",
        "        self.duration = duration\n",
        "        self.genre = genre\n",
        "\n",
        "class MusicStreamingService:\n",
        "    def __init__(self):\n",
        "        self.genres = self.get_available_genres()\n",
        "        self.songs = self.get_available_songs()\n",
        "        self.user_subscriptions = {}\n",
        "\n",
        "    def get_available_genres(self):\n",
        "        url = \"https://archive.org/details/etree\"\n",
        "        response = requests.get(url, verify=False)\n",
        "        soup = BeautifulSoup(response.text, 'html.parser')\n",
        "        genres = [a.text for a in soup.find_all('a', href=True) if '/details/etree/' in a['href']]\n",
        "        return genres\n",
        "\n",
        "    def get_available_songs(self):\n",
        "        url = \"https://archive.org/details/etree\"\n",
        "        response = requests.get(url, verify=False)\n",
        "        soup = BeautifulSoup(response.text, 'html.parser')\n",
        "        songs = []\n",
        "        for a in soup.find_all('a', href=True):\n",
        "            if '/details/etree/' in a['href']:\n",
        "                song_url = \"https://archive.org\" + a['href']\n",
        "                song_response = requests.get(song_url, verify=False)\n",
        "                song_soup = BeautifulSoup(song_response.text, 'html.parser')\n",
        "\n",
        "                title_element = song_soup.find('h1', class_='title')\n",
        "                title = title_element.text.strip() if title_element else \"Unknown Title\"\n",
        "\n",
        "                artist_element = song_soup.find('span', itemprop='byArtist')\n",
        "                artist = artist_element.text.strip() if artist_element else \"Unknown Artist\"\n",
        "\n",
        "                duration_element = song_soup.find('span', itemprop='duration')\n",
        "                duration = duration_element.text.strip() if duration_element else \"Unknown Duration\"\n",
        "\n",
        "                genre = a.text.strip()\n",
        "\n",
        "                songs.append(Song(title, artist, duration, genre))\n",
        "        return songs\n",
        "\n",
        "    def subscribe(self, user, genre):\n",
        "        if genre in self.genres:\n",
        "            self.user_subscriptions.setdefault(user, []).append(genre)\n",
        "            print(f\"User  {user} has subscribed to {genre}!\")\n",
        "        else:\n",
        "            print(f\"Genre {genre} is not available.\")\n",
        "\n",
        "    def view_subscriptions(self, user):\n",
        "        if user in self.user_subscriptions:\n",
        "            print(f\"User  {user} is subscribed to:\")\n",
        "            for genre in self.user_subscriptions[user]:\n",
        "                print(f\"- {genre}\")\n",
        "        else:\n",
        "            print(f\"User  {user} has no subscriptions.\")\n",
        "\n",
        "    def play_songs(self, user):\n",
        "        if user in self.user_subscriptions:\n",
        "            for genre in self.user_subscriptions[user]:\n",
        "                print(f\"Playing songs from {genre}:\")\n",
        "                for song in self.songs:\n",
        "                    if song.genre == genre:\n",
        "                        print(f\"- {song.title} by {song.artist} ({song.duration})\")\n",
        "        else:\n",
        "            print(f\"User  {user} has no subscriptions.\")\n",
        "\n",
        "    def create_playlist(self, user, playlist_name):\n",
        "        if user in self.user_subscriptions:\n",
        "            playlist = []\n",
        "            for genre in self.user_subscriptions[user]:\n",
        "                for song in self.songs:\n",
        "                    if song.genre == genre:\n",
        "                        playlist.append(song)\n",
        "            print(f\"Playlist {playlist_name} created for user {user}:\")\n",
        "            for song in playlist:\n",
        "                print(f\"- {song.title} by {song.artist}\")\n",
        "        else:\n",
        "            print(f\"User  {user} has no subscriptions.\")\n",
        "\n",
        "# Test the functionality\n",
        "music_service = MusicStreamingService()\n",
        "music_service.subscribe(\"test_user\", \"Rock\")\n",
        "music_service.view_subscriptions(\"test_user\")\n",
        "music_service.play_songs(\"test_user\")\n",
        "music_service.create_playlist(\"test_user\", \"My Playlist\")"
      ],
      "metadata": {
        "colab": {
          "base_uri": "https://localhost:8080/"
        },
        "id": "ntFl6-6eHVdz",
        "outputId": "ff196529-6dbc-4534-a0aa-3272c780f1ec"
      },
      "execution_count": 6,
      "outputs": [
        {
          "output_type": "stream",
          "name": "stderr",
          "text": [
            "/usr/local/lib/python3.10/dist-packages/urllib3/connectionpool.py:1099: InsecureRequestWarning: Unverified HTTPS request is being made to host 'archive.org'. Adding certificate verification is strongly advised. See: https://urllib3.readthedocs.io/en/latest/advanced-usage.html#tls-warnings\n",
            "  warnings.warn(\n"
          ]
        },
        {
          "output_type": "stream",
          "name": "stdout",
          "text": [
            "Genre Rock is not available.\n",
            "User  test_user has no subscriptions.\n",
            "User  test_user has no subscriptions.\n",
            "User  test_user has no subscriptions.\n"
          ]
        },
        {
          "output_type": "stream",
          "name": "stderr",
          "text": [
            "/usr/local/lib/python3.10/dist-packages/urllib3/connectionpool.py:1099: InsecureRequestWarning: Unverified HTTPS request is being made to host 'archive.org'. Adding certificate verification is strongly advised. See: https://urllib3.readthedocs.io/en/latest/advanced-usage.html#tls-warnings\n",
            "  warnings.warn(\n"
          ]
        }
      ]
    }
  ]
}