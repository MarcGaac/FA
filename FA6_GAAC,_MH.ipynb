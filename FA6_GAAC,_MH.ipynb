{
  "nbformat": 4,
  "nbformat_minor": 0,
  "metadata": {
    "colab": {
      "provenance": [],
      "authorship_tag": "ABX9TyOBOzWSPKAz98VogHDnaVm+",
      "include_colab_link": true
    },
    "kernelspec": {
      "name": "python3",
      "display_name": "Python 3"
    },
    "language_info": {
      "name": "python"
    }
  },
  "cells": [
    {
      "cell_type": "markdown",
      "metadata": {
        "id": "view-in-github",
        "colab_type": "text"
      },
      "source": [
        "<a href=\"https://colab.research.google.com/github/MarcGaac/FA/blob/main/FA6_GAAC%2C_MH.ipynb\" target=\"_parent\"><img src=\"https://colab.research.google.com/assets/colab-badge.svg\" alt=\"Open In Colab\"/></a>"
      ]
    },
    {
      "cell_type": "code",
      "execution_count": 1,
      "metadata": {
        "colab": {
          "base_uri": "https://localhost:8080/"
        },
        "id": "Ds2vgcn_RhIn",
        "outputId": "239e0855-83c7-486c-f91e-f50b0733fb10"
      },
      "outputs": [
        {
          "output_type": "stream",
          "name": "stdout",
          "text": [
            "Ackermann(2, 4) = 11\n",
            "Is 16 a power of 2? True\n"
          ]
        }
      ],
      "source": [
        "def ack(m, n):\n",
        "    \"\"\"Evaluates the Ackermann function.\"\"\"\n",
        "    if m == 0:\n",
        "        return n + 1\n",
        "    elif n == 0:\n",
        "        return ack(m - 1, 1)\n",
        "    else:\n",
        "        return ack(m - 1, ack(m, n - 1))\n",
        "\n",
        "def is_power(a, b):\n",
        "    \"\"\"Checks if a is a power of b.\"\"\"\n",
        "    if a == 1:\n",
        "        return True\n",
        "    elif a % b == 0 and is_power(a / b, b):\n",
        "        return True\n",
        "    else:\n",
        "        return False\n",
        "\n",
        "\n",
        "result = ack(2, 4)\n",
        "print(f\"Ackermann(2, 4) = {result}\")\n",
        "\n",
        "\n",
        "power_check = is_power(16, 2)\n",
        "print(f\"Is 16 a power of 2? {power_check}\")"
      ]
    }
  ]
}