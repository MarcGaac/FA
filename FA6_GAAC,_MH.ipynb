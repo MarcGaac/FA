{
  "nbformat": 4,
  "nbformat_minor": 0,
  "metadata": {
    "colab": {
      "provenance": [],
      "authorship_tag": "ABX9TyNQKk2+oGsg5ZInViLLyoJU",
      "include_colab_link": true
    },
    "kernelspec": {
      "name": "python3",
      "display_name": "Python 3"
    },
    "language_info": {
      "name": "python"
    }
  },
  "cells": [
    {
      "cell_type": "markdown",
      "metadata": {
        "id": "view-in-github",
        "colab_type": "text"
      },
      "source": [
        "<a href=\"https://colab.research.google.com/github/MarcGaac/FA/blob/main/FA6_GAAC%2C_MH.ipynb\" target=\"_parent\"><img src=\"https://colab.research.google.com/assets/colab-badge.svg\" alt=\"Open In Colab\"/></a>"
      ]
    },
    {
      "cell_type": "markdown",
      "source": [
        "Write a function named ack that evaluates the Ackermann function. Use your function to evaluate ack(2,4). What happens for larger values of m and n?"
      ],
      "metadata": {
        "id": "-1KoVjEpYG2S"
      }
    },
    {
      "cell_type": "code",
      "execution_count": 5,
      "metadata": {
        "colab": {
          "base_uri": "https://localhost:8080/"
        },
        "id": "Ds2vgcn_RhIn",
        "outputId": "79c44e75-7140-4c36-8501-9268838f2375"
      },
      "outputs": [
        {
          "output_type": "stream",
          "name": "stdout",
          "text": [
            "Ackermann(2, 4) = 11\n"
          ]
        }
      ],
      "source": [
        "def ack(m, n):\n",
        "    \"\"\"Evaluates the Ackermann function.\"\"\"\n",
        "    if m == 0:\n",
        "        return n + 1\n",
        "    elif m > 0 and n == 0:\n",
        "        return ack(m - 1, 1)\n",
        "    elif m > 0 and n > 0:\n",
        "        return ack(m - 1, ack(m, n - 1))\n",
        "\n",
        "# Example usage:\n",
        "result = ack(2, 4)\n",
        "print(f\"Ackermann(2, 4) = {result}\")"
      ]
    },
    {
      "cell_type": "markdown",
      "source": [
        "A number, a is a power of b if it is divisible by b and a/b is a power of b. Write a function called is_power that takes parameters a and b and returns True if a is a power of b. Note: you will have to think about a base case. (Note: It should work with float.)"
      ],
      "metadata": {
        "id": "smz5-6_LYFks"
      }
    },
    {
      "cell_type": "code",
      "source": [
        "def is_power(a, b):\n",
        "    \"\"\"Checks if a is a power of b.\"\"\"\n",
        "    if a == 1:\n",
        "        return True\n",
        "    elif isinstance(a, (int, float)) and isinstance(b, (int, float)) and a % b == 0 and is_power(a / b, b):\n",
        "        return True\n",
        "    else:\n",
        "        return False\n",
        "\n",
        "\n",
        "\n",
        "power_check = is_power(16, 2)\n",
        "print(f\"Is 16 a power of 2? {power_check}\")\n",
        "\n",
        "\n",
        "power_check_float = is_power(0.25, 0.5)\n",
        "print(f\"Is 0.25 a power of 0.5? {power_check_float}\")"
      ],
      "metadata": {
        "colab": {
          "base_uri": "https://localhost:8080/"
        },
        "id": "J3pdbDU9Yhjj",
        "outputId": "6c8e7042-c961-40df-d8a2-88d8f681da16"
      },
      "execution_count": 7,
      "outputs": [
        {
          "output_type": "stream",
          "name": "stdout",
          "text": [
            "Is 16 a power of 2? True\n",
            "Is 0.25 a power of 0.5? False\n"
          ]
        }
      ]
    }
  ]
}