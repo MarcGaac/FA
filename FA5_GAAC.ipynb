{
  "nbformat": 4,
  "nbformat_minor": 0,
  "metadata": {
    "colab": {
      "provenance": [],
      "authorship_tag": "ABX9TyMDLXHuwdv0nnZ0dY535nJE",
      "include_colab_link": true
    },
    "kernelspec": {
      "name": "python3",
      "display_name": "Python 3"
    },
    "language_info": {
      "name": "python"
    }
  },
  "cells": [
    {
      "cell_type": "markdown",
      "metadata": {
        "id": "view-in-github",
        "colab_type": "text"
      },
      "source": [
        "<a href=\"https://colab.research.google.com/github/MarcGaac/FA/blob/main/FA5_GAAC.ipynb\" target=\"_parent\"><img src=\"https://colab.research.google.com/assets/colab-badge.svg\" alt=\"Open In Colab\"/></a>"
      ]
    },
    {
      "cell_type": "markdown",
      "source": [
        "P-5.32 Write a Python function that takes two three-dimensional numeric data\n",
        "sets and adds them componentwise."
      ],
      "metadata": {
        "id": "gEW-ID5ld7lm"
      }
    },
    {
      "cell_type": "code",
      "execution_count": null,
      "metadata": {
        "colab": {
          "base_uri": "https://localhost:8080/"
        },
        "id": "cOjH0qBxdpTa",
        "outputId": "2f0e5a46-0116-4860-f87b-34077661cdb2"
      },
      "outputs": [
        {
          "output_type": "stream",
          "name": "stdout",
          "text": [
            "Dataset 1:\n",
            " [[[0.11811191 0.03657292 0.74026586]\n",
            "  [0.38407457 0.99491611 0.28874713]\n",
            "  [0.335661   0.39763628 0.52559526]]\n",
            "\n",
            " [[0.41810076 0.766138   0.3334093 ]\n",
            "  [0.15403295 0.49644746 0.65050847]\n",
            "  [0.13119872 0.11356236 0.1829569 ]]\n",
            "\n",
            " [[0.32317086 0.42030646 0.39570181]\n",
            "  [0.9059322  0.05147894 0.21310241]\n",
            "  [0.88896069 0.50507446 0.07375128]]]\n",
            "Dataset 2:\n",
            " [[[0.64983246 0.90038761 0.76626006]\n",
            "  [0.6739143  0.64715638 0.56028339]\n",
            "  [0.98165861 0.16829569 0.80579971]]\n",
            "\n",
            " [[0.20404691 0.87422873 0.67249362]\n",
            "  [0.6338851  0.45744297 0.94945339]\n",
            "  [0.87696711 0.81776119 0.27736453]]\n",
            "\n",
            " [[0.1249526  0.41318916 0.91239129]\n",
            "  [0.76444895 0.2088452  0.03571767]\n",
            "  [0.42716073 0.020083   0.65540428]]]\n",
            "Resultant Dataset:\n",
            " [[[0.76794438 0.93696053 1.50652592]\n",
            "  [1.05798888 1.64207249 0.84903052]\n",
            "  [1.31731961 0.56593197 1.33139497]]\n",
            "\n",
            " [[0.62214767 1.64036673 1.00590292]\n",
            "  [0.78791805 0.95389042 1.59996186]\n",
            "  [1.00816583 0.93132355 0.46032143]]\n",
            "\n",
            " [[0.44812346 0.83349561 1.3080931 ]\n",
            "  [1.67038115 0.26032415 0.24882009]\n",
            "  [1.31612142 0.52515746 0.72915555]]]\n"
          ]
        }
      ],
      "source": [
        "import numpy as np\n",
        "\n",
        "def add_3d_datasets(dataset1, dataset2):\n",
        "    \"\"\"\n",
        "    Adds two three-dimensional numeric datasets component-wise.\n",
        "\n",
        "    Parameters:\n",
        "    dataset1 (np.ndarray): First 3D dataset.\n",
        "    dataset2 (np.ndarray): Second 3D dataset.\n",
        "\n",
        "    Returns:\n",
        "    np.ndarray: Resultant 3D dataset after component-wise addition.\n",
        "\n",
        "    Raises:\n",
        "    ValueError: If the input datasets do not have the same shape.\n",
        "    \"\"\"\n",
        "    # Convert inputs to numpy arrays\n",
        "    array1 = np.array(dataset1)\n",
        "    array2 = np.array(dataset2)\n",
        "\n",
        "    # Check if the shapes of the datasets are the same\n",
        "    if array1.shape != array2.shape:\n",
        "        raise ValueError(\"Input datasets must have the same shape.\")\n",
        "\n",
        "    # Add the datasets component-wise\n",
        "    result = array1 + array2\n",
        "\n",
        "    return result\n",
        "\n",
        "# Example usage:\n",
        "dataset1 = np.random.rand(3, 3, 3)  # A random 3D dataset\n",
        "dataset2 = np.random.rand(3, 3, 3)  # Another random 3D dataset\n",
        "\n",
        "result = add_3d_datasets(dataset1, dataset2)\n",
        "print(\"Dataset 1:\\n\", dataset1)\n",
        "print(\"Dataset 2:\\n\", dataset2)\n",
        "print(\"Resultant Dataset:\\n\", result)"
      ]
    },
    {
      "cell_type": "markdown",
      "source": [
        "Give a complete ArrayDeque implementation of the double-ended queue\n",
        "ADT as sketched in Section 6.3.2."
      ],
      "metadata": {
        "id": "SWpj-LfteM58"
      }
    },
    {
      "cell_type": "code",
      "source": [
        "class ArrayDeque:\n",
        "    def __init__(self):\n",
        "        \"\"\"Initialize an empty deque.\"\"\"\n",
        "        self.data = [None] * 10  # Initial capacity\n",
        "        self.size = 0\n",
        "        self.front = 0\n",
        "\n",
        "    def is_empty(self):\n",
        "        \"\"\"Check if the deque is empty.\"\"\"\n",
        "        return self.size == 0\n",
        "\n",
        "    def __len__(self):\n",
        "        \"\"\"Return the number of elements in the deque.\"\"\"\n",
        "        return self.size\n",
        "\n",
        "    def first(self):\n",
        "        \"\"\"Return the first element of the deque.\"\"\"\n",
        "        if self.is_empty():\n",
        "            raise IndexError(\"Deque is empty\")\n",
        "        return self.data[self.front]\n",
        "\n",
        "    def last(self):\n",
        "        \"\"\"Return the last element of the deque.\"\"\"\n",
        "        if self.is_empty():\n",
        "            raise IndexError(\"Deque is empty\")\n",
        "        back = (self.front + self.size - 1) % len(self.data)\n",
        "        return self.data[back]\n",
        "\n",
        "    def add_first(self, item):\n",
        "        \"\"\"Add an element to the front of the deque.\"\"\"\n",
        "        if self.size == len(self.data):\n",
        "            self.resize(2 * len(self.data))  # Double the array size\n",
        "        self.front = (self.front - 1) % len(self.data)\n",
        "        self.data[self.front] = item\n",
        "        self.size += 1\n",
        "\n",
        "    def add_last(self, item):\n",
        "        \"\"\"Add an element to the back of the deque.\"\"\"\n",
        "        if self.size == len(self.data):\n",
        "            self.resize(2 * len(self.data))  # Double the array size\n",
        "        back = (self.front + self.size) % len(self.data)\n",
        "        self.data[back] = item\n",
        "        self.size += 1\n",
        "\n",
        "    def delete_first(self):\n",
        "        \"\"\"Remove and return the first element of the deque.\"\"\"\n",
        "        if self.is_empty():\n",
        "            raise IndexError(\"Deque is empty\")\n",
        "        item = self.data[self.front]\n",
        "        self.data[self.front] = None  # Clear the slot\n",
        "        self.front = (self.front + 1) % len(self.data)\n",
        "        self.size -= 1\n",
        "        return item\n",
        "\n",
        "    def delete_last(self):\n",
        "        \"\"\"Remove and return the last element of the deque.\"\"\"\n",
        "        if self.is_empty():\n",
        "            raise IndexError(\"Deque is empty\")\n",
        "        back = (self.front + self.size - 1) % len(self.data)\n",
        "        item = self.data[back]\n",
        "        self.data[back] = None  # Clear the slot\n",
        "        self.size -= 1\n",
        "        return item\n",
        "\n",
        "    def resize(self, new_capacity):\n",
        "        \"\"\"Resize the underlying array to a new capacity.\"\"\"\n",
        "        new_data = [None] * new_capacity\n",
        "        for i in range(self.size):\n",
        "            new_data[i] = self.data[(self.front + i) % len(self.data)]\n",
        "        self.data = new_data\n",
        "        self.front = 0  # Reset front to the beginning of the new array\n",
        "\n",
        "# Example usage\n",
        "if __name__ == \"__main__\":\n",
        "    deque = ArrayDeque()\n",
        "    deque.add_last(1)\n",
        "    deque.add_last(2)\n",
        "    deque.add_first(0)\n",
        "    print(\"First:\", deque.first())  # Output: First: 0\n",
        "    print(\"Last:\", deque.last())    # Output: Last: 2\n",
        "    print(\"Deleted First:\", deque.delete_first())  # Output: Deleted First: 0\n",
        "    print(\"Deleted Last:\", deque.delete_last())    # Output: Deleted Last: 2\n",
        "    print(\"Size:\", len(deque))  # Output: Size: 1"
      ],
      "metadata": {
        "colab": {
          "base_uri": "https://localhost:8080/"
        },
        "id": "mOGUs7MReRAl",
        "outputId": "d3a69ee7-84f3-45ea-b0c3-6a95f035b2dd"
      },
      "execution_count": null,
      "outputs": [
        {
          "output_type": "stream",
          "name": "stdout",
          "text": [
            "First: 0\n",
            "Last: 2\n",
            "Deleted First: 0\n",
            "Deleted Last: 2\n",
            "Size: 1\n"
          ]
        }
      ]
    }
  ]
}