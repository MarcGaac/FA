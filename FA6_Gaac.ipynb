{
  "nbformat": 4,
  "nbformat_minor": 0,
  "metadata": {
    "colab": {
      "provenance": [],
      "authorship_tag": "ABX9TyP3ibgv2ch/vDSJOUnI7sb+",
      "include_colab_link": true
    },
    "kernelspec": {
      "name": "python3",
      "display_name": "Python 3"
    },
    "language_info": {
      "name": "python"
    }
  },
  "cells": [
    {
      "cell_type": "markdown",
      "metadata": {
        "id": "view-in-github",
        "colab_type": "text"
      },
      "source": [
        "<a href=\"https://colab.research.google.com/github/MarcGaac/FA/blob/main/FA6_Gaac.ipynb\" target=\"_parent\"><img src=\"https://colab.research.google.com/assets/colab-badge.svg\" alt=\"Open In Colab\"/></a>"
      ]
    },
    {
      "cell_type": "markdown",
      "source": [
        "C-7.24 Give a complete implementation of the stack ADT using a singly linked\n",
        "list that includes a header sentinel"
      ],
      "metadata": {
        "id": "IOe_KlPS0UA2"
      }
    },
    {
      "cell_type": "code",
      "execution_count": null,
      "metadata": {
        "colab": {
          "base_uri": "https://localhost:8080/"
        },
        "id": "eRHG8yAw0PMs",
        "outputId": "31eeb13b-71e7-427a-ebb6-60d97debb1fc"
      },
      "outputs": [
        {
          "output_type": "stream",
          "name": "stdout",
          "text": [
            "True\n",
            "Stack: [30, 20, 10]\n",
            "30\n",
            "30\n",
            "Stack: [20, 10]\n",
            "False\n",
            "2\n"
          ]
        }
      ],
      "source": [
        "class Node:\n",
        "    \"\"\"Class to represent a node in the linked list.\"\"\"\n",
        "    def __init__(self, data=None):\n",
        "        self.data = data\n",
        "        self.next = None\n",
        "\n",
        "class Stack:\n",
        "    \"\"\"Class to represent a stack using a singly linked list with a header sentinel.\"\"\"\n",
        "    def __init__(self):\n",
        "        # Create a header sentinel node\n",
        "        self.header = Node()\n",
        "        self.header.next = None  # The header's next points to None initially\n",
        "        self.size = 0  # To keep track of the number of elements in the stack\n",
        "\n",
        "    def is_empty(self):\n",
        "        \"\"\"Check if the stack is empty.\"\"\"\n",
        "        return self.size == 0\n",
        "\n",
        "    def push(self, item):\n",
        "        \"\"\"Push an item onto the stack.\"\"\"\n",
        "        new_node = Node(item)  # Create a new node\n",
        "        new_node.next = self.header.next  # Link new node to the current top\n",
        "        self.header.next = new_node  # Update the header's next to new node\n",
        "        self.size += 1  # Increase the size of the stack\n",
        "\n",
        "    def pop(self):\n",
        "        \"\"\"Pop an item from the stack. Raises IndexError if the stack is empty.\"\"\"\n",
        "        if self.is_empty():\n",
        "            raise IndexError(\"pop from empty stack\")\n",
        "        # Get the top node\n",
        "        top_node = self.header.next\n",
        "        self.header.next = top_node.next  # Update the header's next to the next node\n",
        "        self.size -= 1  # Decrease the size of the stack\n",
        "        return top_node.data  # Return the popped value\n",
        "\n",
        "    def peek(self):\n",
        "        \"\"\"Return the top item of the stack without removing it. Raises IndexError if the stack is empty.\"\"\"\n",
        "        if self.is_empty():\n",
        "            raise IndexError(\"peek from empty stack\")\n",
        "        return self.header.next.data  # Return the value of the top node\n",
        "\n",
        "    def __len__(self):\n",
        "        \"\"\"Return the number of items in the stack.\"\"\"\n",
        "        return self.size\n",
        "\n",
        "    def __str__(self):\n",
        "        \"\"\"Return a string representation of the stack.\"\"\"\n",
        "        elements = []\n",
        "        current = self.header.next  # Start from the first real node\n",
        "        while current:\n",
        "            elements.append(repr(current.data))\n",
        "            current = current.next\n",
        "        return \"Stack: [\" + \", \".join(elements) + \"]\"\n",
        "\n",
        "# Example usage\n",
        "if __name__ == \"__main__\":\n",
        "    stack = Stack()\n",
        "    print(stack.is_empty())  # True\n",
        "    stack.push(10)\n",
        "    stack.push(20)\n",
        "    stack.push(30)\n",
        "    print(stack)  # Stack: [30, 20, 10]\n",
        "    print(stack.peek())  # 30\n",
        "    print(stack.pop())  # 30\n",
        "    print(stack)  # Stack: [20, 10]\n",
        "    print(stack.is_empty())  # False\n",
        "    print(len(stack))  # 2"
      ]
    },
    {
      "cell_type": "markdown",
      "source": [
        "P-7.44 Write a simple text editor that stores and displays a string of characters\n",
        "using the positional list ADT, together with a cursor object that highlights\n",
        "a position in this string. A simple interface is to print the string and then\n",
        "to use a second line of output to underline the position of the cursor. Your\n",
        "editor should support the following operations:\n",
        "• left: Move cursor left one character (do nothing if at beginning).\n",
        "• right: Move cursor right one character (do nothing if at end).\n",
        "• insert c: Insert the character c just after the cursor.\n",
        "• delete: Delete the character just after the cursor (do nothing at end)."
      ],
      "metadata": {
        "id": "dFXOzjjl1KvN"
      }
    },
    {
      "cell_type": "code",
      "source": [
        "class Node:\n",
        "    \"\"\"Class to represent a node in the doubly linked list.\"\"\"\n",
        "    def __init__(self, char=None):\n",
        "        self.char = char\n",
        "        self.prev = None\n",
        "        self.next = None\n",
        "\n",
        "class PositionalList:\n",
        "    \"\"\"Class to represent a positional list.\"\"\"\n",
        "    def __init__(self):\n",
        "        self.head = Node()  # Sentinel head\n",
        "        self.tail = Node()  # Sentinel tail\n",
        "        self.head.next = self.tail  # Link head to tail\n",
        "        self.tail.prev = self.head  # Link tail to head\n",
        "        self.cursor = self.head  # Cursor starts at the head\n",
        "\n",
        "    def insert_after(self, char):\n",
        "        \"\"\"Insert a character just after the cursor.\"\"\"\n",
        "        new_node = Node(char)\n",
        "        new_node.prev = self.cursor\n",
        "        new_node.next = self.cursor.next\n",
        "        self.cursor.next.prev = new_node\n",
        "        self.cursor.next = new_node\n",
        "        self.cursor = new_node  # Move cursor to the new node\n",
        "\n",
        "    def delete_after(self):\n",
        "        \"\"\"Delete the character just after the cursor.\"\"\"\n",
        "        if self.cursor.next != self.tail:  # If there's a character to delete\n",
        "            to_delete = self.cursor.next\n",
        "            self.cursor.next = to_delete.next\n",
        "            to_delete.next.prev = self.cursor\n",
        "            self.cursor = self.cursor  # Cursor remains in the same position\n",
        "\n",
        "    def move_cursor_left(self):\n",
        "        \"\"\"Move the cursor left one position.\"\"\"\n",
        "        if self.cursor.prev != self.head:  # Don't move if at the beginning\n",
        "            self.cursor = self.cursor.prev\n",
        "\n",
        "    def move_cursor_right(self):\n",
        "        \"\"\"Move the cursor right one position.\"\"\"\n",
        "        if self.cursor.next != self.tail:  # Don't move if at the end\n",
        "            self.cursor = self.cursor.next\n",
        "\n",
        "    def __str__(self):\n",
        "        \"\"\"Return the string representation of the text.\"\"\"\n",
        "        chars = []\n",
        "        current = self.head.next\n",
        "        while current != self.tail:\n",
        "            chars.append(current.char)\n",
        "            current = current.next\n",
        "        return ''.join(chars)\n",
        "\n",
        "    def cursor_position(self):\n",
        "        \"\"\"Return the position of the cursor for underlining.\"\"\"\n",
        "        position = 0\n",
        "        current = self.head.next\n",
        "        while current != self.cursor:\n",
        "            position += 1\n",
        "            current = current.next\n",
        "        return position\n",
        "\n",
        "class TextEditor:\n",
        "    \"\"\"Class to represent the text editor.\"\"\"\n",
        "    def __init__(self):\n",
        "        self.text = PositionalList()\n",
        "\n",
        "    def insert(self, char):\n",
        "        \"\"\"Insert a character at the cursor position.\"\"\"\n",
        "        self.text.insert_after(char)\n",
        "\n",
        "    def delete(self):\n",
        "        \"\"\"Delete the character at the cursor position.\"\"\"\n",
        "        self.text.delete_after()\n",
        "\n",
        "    def move_left(self):\n",
        "        \"\"\"Move the cursor left.\"\"\"\n",
        "        self.text.move_cursor_left()\n",
        "\n",
        "    def move_right(self):\n",
        "        \"\"\"Move the cursor right.\"\"\"\n",
        "        self.text.move_cursor_right()\n",
        "\n",
        "    def display(self):\n",
        "        \"\"\"Display the current text and the cursor position.\"\"\"\n",
        "        print(self.text)\n",
        "        cursor_pos = self.text.cursor_position()\n",
        "        print(' ' * cursor_pos + '^')  # Underline the cursor position\n",
        "\n",
        "# Example usage\n",
        "if __name__ == \"__main__\":\n",
        "    editor = TextEditor()\n",
        "    editor.insert('H')\n",
        "    editor.insert('e')\n",
        "    editor.insert('n')\n",
        "    editor.insert('r')\n",
        "    editor.insert('y')\n",
        "    editor.display()  # Henry and cursor at the end\n",
        "\n",
        "    editor.move_left()\n",
        "    editor.display()  # Henr and cursor at the end\n",
        "\n",
        "    editor.insert('y')\n",
        "    editor.display()  # Henry and cursor at the end\n",
        "\n",
        "    editor.move_left()\n",
        "    editor.move_left()\n",
        "    editor.display()  # Hen and cursor at the end\n",
        "\n",
        "    editor.delete()\n",
        "    editor.display()  # Hen and cursor at the end\n",
        "\n",
        "    editor.move_right()\n",
        "    editor.display()  # Henry and cursor at the end"
      ],
      "metadata": {
        "colab": {
          "base_uri": "https://localhost:8080/"
        },
        "id": "I3W6ZsE71LWF",
        "outputId": "f5b9b5df-d5d0-4c7d-8f94-3e52796598c1"
      },
      "execution_count": 2,
      "outputs": [
        {
          "output_type": "stream",
          "name": "stdout",
          "text": [
            "Henry\n",
            "    ^\n",
            "Henry\n",
            "   ^\n",
            "Henryy\n",
            "    ^\n",
            "Henryy\n",
            "  ^\n",
            "Henyy\n",
            "  ^\n",
            "Henyy\n",
            "   ^\n"
          ]
        }
      ]
    }
  ]
}