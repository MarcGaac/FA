{
  "nbformat": 4,
  "nbformat_minor": 0,
  "metadata": {
    "colab": {
      "provenance": [],
      "authorship_tag": "ABX9TyMq4YW269l6lPvdbej0f5zs",
      "include_colab_link": true
    },
    "kernelspec": {
      "name": "python3",
      "display_name": "Python 3"
    },
    "language_info": {
      "name": "python"
    }
  },
  "cells": [
    {
      "cell_type": "markdown",
      "metadata": {
        "id": "view-in-github",
        "colab_type": "text"
      },
      "source": [
        "<a href=\"https://colab.research.google.com/github/MarcGaac/FA/blob/main/FA9_GAAC_MH.ipynb\" target=\"_parent\"><img src=\"https://colab.research.google.com/assets/colab-badge.svg\" alt=\"Open In Colab\"/></a>"
      ]
    },
    {
      "cell_type": "markdown",
      "source": [
        "Compute for the descriptive measures as shown in the attached file Download attached filefor the df, which can be accessed at https://raw.githubusercontent.com/Apress/data-analysis-and-visualization-using-python/master/Ch07/Salaries.csv."
      ],
      "metadata": {
        "id": "8BhdV1mwGPTP"
      }
    },
    {
      "cell_type": "code",
      "source": [
        "import pandas as pd\n",
        "\n",
        "# Load the dataset\n",
        "url = 'https://raw.githubusercontent.com/Apress/data-analysis-and-visualization-using-python/master/Ch07/Salaries.csv'\n",
        "df = pd.read_csv(url)\n",
        "\n",
        "# Calculate descriptive statistics\n",
        "stats = df.groupby('rank')['salary'].describe(percentiles=[.25,.5,.75])\n",
        "\n",
        "# Format the output\n",
        "stats = stats.unstack().round(2)\n",
        "stats.columns = ['count', 'mean', 'std', 'min', '25th Percentile', '50th Percentile', '75th Percentile', 'max']\n",
        "stats = stats.reset_index()\n",
        "\n",
        "# Display the output\n",
        "print(stats)"
      ],
      "metadata": {
        "colab": {
          "base_uri": "https://localhost:8080/"
        },
        "id": "PCdBFDkeBFBv",
        "outputId": "ccb109ab-177b-483e-8a9f-57655ec124c4"
      },
      "execution_count": 2,
      "outputs": [
        {
          "output_type": "stream",
          "name": "stdout",
          "text": [
            "   level_0       rank          0\n",
            "0    count  AssocProf      13.00\n",
            "1    count   AsstProf      19.00\n",
            "2    count       Prof      46.00\n",
            "3     mean  AssocProf   91786.23\n",
            "4     mean   AsstProf   81362.79\n",
            "5     mean       Prof  123624.80\n",
            "6      std  AssocProf   18571.18\n",
            "7      std   AsstProf    9381.25\n",
            "8      std       Prof   24850.29\n",
            "9      min  AssocProf   62884.00\n",
            "10     min   AsstProf   63100.00\n",
            "11     min       Prof   57800.00\n",
            "12     25%  AssocProf   74830.00\n",
            "13     25%   AsstProf   74096.00\n",
            "14     25%       Prof  105112.50\n",
            "15     50%  AssocProf  103613.00\n",
            "16     50%   AsstProf   78500.00\n",
            "17     50%       Prof  123321.50\n",
            "18     75%  AssocProf  104542.00\n",
            "19     75%   AsstProf   91150.00\n",
            "20     75%       Prof  143512.25\n",
            "21     max  AssocProf  119800.00\n",
            "22     max   AsstProf   97032.00\n",
            "23     max       Prof  186960.00\n"
          ]
        }
      ]
    }
  ]
}