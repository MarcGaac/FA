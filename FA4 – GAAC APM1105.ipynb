{
  "nbformat": 4,
  "nbformat_minor": 0,
  "metadata": {
    "colab": {
      "provenance": [],
      "authorship_tag": "ABX9TyOI0yfHLYU9PdQpnMgUi3is",
      "include_colab_link": true
    },
    "kernelspec": {
      "name": "python3",
      "display_name": "Python 3"
    },
    "language_info": {
      "name": "python"
    }
  },
  "cells": [
    {
      "cell_type": "markdown",
      "metadata": {
        "id": "view-in-github",
        "colab_type": "text"
      },
      "source": [
        "<a href=\"https://colab.research.google.com/github/MarcGaac/FA/blob/main/FA4%20%E2%80%93%20GAAC%20APM1105.ipynb\" target=\"_parent\"><img src=\"https://colab.research.google.com/assets/colab-badge.svg\" alt=\"Open In Colab\"/></a>"
      ]
    },
    {
      "cell_type": "markdown",
      "source": [
        "1. Write a Python program to print the even numbers from a given list.\n",
        "\n",
        "List: [1, 2, 3, 4, 5, 6, 7, 8, 9, 10, 11, 13, 15, 17, 19, 24, 26, 28, 30, 32]"
      ],
      "metadata": {
        "id": "F7Ztf9S5HCGf"
      }
    },
    {
      "cell_type": "code",
      "source": [
        "def print_even_numbers(input_list):\n",
        "    even_numbers = [num for num in input_list if num % 2 == 0]\n",
        "    print(even_numbers)\n",
        "\n",
        "\n",
        "input_list = [1, 2, 3, 4, 5, 6, 7, 8, 9, 10, 11, 13, 15, 17, 19, 24, 26, 28, 30, 32]\n",
        "\n",
        "\n",
        "print_even_numbers(input_list)"
      ],
      "metadata": {
        "colab": {
          "base_uri": "https://localhost:8080/"
        },
        "id": "vmAATKkDHETF",
        "outputId": "95e7b961-d4cd-4586-c8ff-620c39e3604e"
      },
      "execution_count": 1,
      "outputs": [
        {
          "output_type": "stream",
          "name": "stdout",
          "text": [
            "[2, 4, 6, 8, 10, 24, 26, 28, 30, 32]\n"
          ]
        }
      ]
    },
    {
      "cell_type": "markdown",
      "source": [
        "2. Generate a Python list of all the even numbers between 10 to 60."
      ],
      "metadata": {
        "id": "ugjHMcWqHVCd"
      }
    },
    {
      "cell_type": "code",
      "source": [
        "even_numbers = [num for num in range(10, 61) if num % 2 == 0]\n",
        "print(even_numbers)"
      ],
      "metadata": {
        "colab": {
          "base_uri": "https://localhost:8080/"
        },
        "id": "mSGxmGGlHYPr",
        "outputId": "d92f313f-c616-49a4-f244-0eb6d6b2af9d"
      },
      "execution_count": 2,
      "outputs": [
        {
          "output_type": "stream",
          "name": "stdout",
          "text": [
            "[10, 12, 14, 16, 18, 20, 22, 24, 26, 28, 30, 32, 34, 36, 38, 40, 42, 44, 46, 48, 50, 52, 54, 56, 58, 60]\n"
          ]
        }
      ]
    },
    {
      "cell_type": "markdown",
      "source": [
        "3. Write a program to create a function show_feu_professor() using the following conditions:\n",
        "\n",
        "It should accept the professor’s name and salary and display both.\n",
        "If the salary is missing in the function call then assign default value 70000 to salary.\n",
        "Expected output: Display of at least 5 FEU professors with their salaries."
      ],
      "metadata": {
        "id": "vxg1zUzJHjBs"
      }
    },
    {
      "cell_type": "code",
      "source": [
        "def show_feu_professor(name, salary=70000):\n",
        "    print(f\"Professor's Name: {name}, Salary: {salary}\")\n",
        "\n",
        "\n",
        "show_feu_professor(\"JEFFREY ALVARINA\", 80000)\n",
        "show_feu_professor(\"NORMITA COBARRUBIAS\",)\n",
        "show_feu_professor(\"MARIA LOURDES MARIANO\", 75000)\n",
        "show_feu_professor(\"MARIELLE GIDALANGA\", 72000)\n",
        "show_feu_professor(\"BUENROSTRO-JOCSON, JANINE NA\", 68000)"
      ],
      "metadata": {
        "colab": {
          "base_uri": "https://localhost:8080/"
        },
        "id": "Il0L8OXjLscE",
        "outputId": "3311baba-6846-4c1d-dfbf-31a2ed4a9df5"
      },
      "execution_count": 5,
      "outputs": [
        {
          "output_type": "stream",
          "name": "stdout",
          "text": [
            "Professor's Name: JEFFREY ALVARINA, Salary: 80000\n",
            "Professor's Name: NORMITA COBARRUBIAS, Salary: 70000\n",
            "Professor's Name: MARIA LOURDES MARIANO, Salary: 75000\n",
            "Professor's Name: MARIELLE GIDALANGA, Salary: 72000\n",
            "Professor's Name: BUENROSTRO-JOCSON, JANINE NA, Salary: 68000\n"
          ]
        }
      ]
    }
  ]
}