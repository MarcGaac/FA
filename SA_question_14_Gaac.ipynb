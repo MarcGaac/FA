{
  "nbformat": 4,
  "nbformat_minor": 0,
  "metadata": {
    "colab": {
      "provenance": [],
      "authorship_tag": "ABX9TyMF2DbohFh2pCEdtpvDFwAL",
      "include_colab_link": true
    },
    "kernelspec": {
      "name": "python3",
      "display_name": "Python 3"
    },
    "language_info": {
      "name": "python"
    }
  },
  "cells": [
    {
      "cell_type": "markdown",
      "metadata": {
        "id": "view-in-github",
        "colab_type": "text"
      },
      "source": [
        "<a href=\"https://colab.research.google.com/github/MarcGaac/FA/blob/main/SA_question_14_Gaac.ipynb\" target=\"_parent\"><img src=\"https://colab.research.google.com/assets/colab-badge.svg\" alt=\"Open In Colab\"/></a>"
      ]
    },
    {
      "cell_type": "markdown",
      "source": [
        "Suppose you are given an n-element sequence, S, containing distinct integers that are listed in increasing order. Given a number k, describe a recursive algorithm to find two integers in S that sum to k, if such a pair exists. What is the running time of your algorithm?"
      ],
      "metadata": {
        "id": "gq_ZWkcFMJdw"
      }
    },
    {
      "cell_type": "code",
      "execution_count": 3,
      "metadata": {
        "colab": {
          "base_uri": "https://localhost:8080/"
        },
        "id": "8Rj7Q4absM4t",
        "outputId": "6d43761e-8514-4092-8ca9-2acf11123f0f"
      },
      "outputs": [
        {
          "output_type": "stream",
          "name": "stdout",
          "text": [
            "Input sequence: [1, 2, 3, 4, 5, 6, 7, 8, 9, 10]\n",
            "Target sum: 10\n",
            "Pair found: (4, 6)\n"
          ]
        }
      ],
      "source": [
        "def find_pair(S, k):\n",
        "    if not S:\n",
        "        return \"No pair found\"\n",
        "    if S[0] > k:\n",
        "        return \"No pair found\"\n",
        "    mid = len(S) // 2\n",
        "    target = k - S[mid]\n",
        "    if target in S[:mid]:\n",
        "        return (target, S[mid])\n",
        "    elif target in S[mid+1:]:\n",
        "        return (S[mid], target)\n",
        "    else:\n",
        "        return \"No pair found\"\n",
        "\n",
        "# Example usage:\n",
        "S = [1, 2, 3, 4, 5, 6, 7, 8, 9, 10]\n",
        "k = 10\n",
        "\n",
        "result = find_pair(S, k)\n",
        "print(\"Input sequence:\", S)\n",
        "print(\"Target sum:\", k)\n",
        "if result == \"No pair found\":\n",
        "    print(\"No pair found that sums to\", k)\n",
        "else:\n",
        "    print(\"Pair found:\", result)"
      ]
    }
  ]
}