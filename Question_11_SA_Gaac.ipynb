{
  "nbformat": 4,
  "nbformat_minor": 0,
  "metadata": {
    "colab": {
      "provenance": [],
      "authorship_tag": "ABX9TyM0s5SqVeO8nheZADpTGlij",
      "include_colab_link": true
    },
    "kernelspec": {
      "name": "python3",
      "display_name": "Python 3"
    },
    "language_info": {
      "name": "python"
    }
  },
  "cells": [
    {
      "cell_type": "markdown",
      "metadata": {
        "id": "view-in-github",
        "colab_type": "text"
      },
      "source": [
        "<a href=\"https://colab.research.google.com/github/MarcGaac/FA/blob/main/Question_11_SA_Gaac.ipynb\" target=\"_parent\"><img src=\"https://colab.research.google.com/assets/colab-badge.svg\" alt=\"Open In Colab\"/></a>"
      ]
    },
    {
      "cell_type": "markdown",
      "source": [
        "Write a Python program that simulates a handheld calculator. Your program should process input from the Python console representing buttons that are “pushed,” and then output the contents of the screen after each operation is performed. Minimally, your calculator should be able to process the basic arithmetic operations and a reset/clear operation."
      ],
      "metadata": {
        "id": "p1FzzeoGDxLa"
      }
    },
    {
      "cell_type": "code",
      "execution_count": 1,
      "metadata": {
        "id": "HVoewXk5n-s7",
        "colab": {
          "base_uri": "https://localhost:8080/"
        },
        "outputId": "d48db6c7-4f5a-4146-98a0-7ea336fc0a52"
      },
      "outputs": [
        {
          "name": "stdout",
          "output_type": "stream",
          "text": [
            "Enter a button (or 'q' to quit): 1\n",
            "1\n",
            "Enter a button (or 'q' to quit): 1+2\n",
            "11+2\n",
            "Enter a button (or 'q' to quit): 1 * 2\n",
            "11+21 * 2\n",
            "Enter a button (or 'q' to quit): q\n"
          ]
        }
      ],
      "source": [
        "class Calculator:\n",
        "    def __init__(self):\n",
        "        self.screen = \"0\"\n",
        "\n",
        "    def push_button(self, button):\n",
        "        if button == \"C\":\n",
        "            self.screen = \"0\"\n",
        "        elif button in \"+-*/\":\n",
        "            if self.screen != \"0\":\n",
        "                self.screen += button\n",
        "        elif button == \"=\":\n",
        "            try:\n",
        "                self.screen = str(eval(self.screen))\n",
        "            except ZeroDivisionError:\n",
        "                self.screen = \"Error\"\n",
        "        else:\n",
        "            if self.screen == \"0\":\n",
        "                self.screen = button\n",
        "            else:\n",
        "                self.screen += button\n",
        "        return self.screen\n",
        "\n",
        "calculator = Calculator()\n",
        "\n",
        "while True:\n",
        "    button = input(\"Enter a button (or 'q' to quit): \")\n",
        "    if button.lower() == 'q':\n",
        "        break\n",
        "    print(calculator.push_button(button))"
      ]
    }
  ]
}