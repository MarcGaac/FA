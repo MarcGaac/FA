{
 "cells": [
  {
   "cell_type": "code",
   "execution_count": 3,
   "id": "7422a665",
   "metadata": {},
   "outputs": [
    {
     "ename": "Terminator",
     "evalue": "",
     "output_type": "error",
     "traceback": [
      "\u001b[1;31m---------------------------------------------------------------------------\u001b[0m",
      "\u001b[1;31mTerminator\u001b[0m                                Traceback (most recent call last)",
      "Cell \u001b[1;32mIn[3], line 35\u001b[0m\n\u001b[0;32m     32\u001b[0m x \u001b[38;5;241m=\u001b[39m circle_radius \u001b[38;5;241m*\u001b[39m turtle\u001b[38;5;241m.\u001b[39mmath\u001b[38;5;241m.\u001b[39mcos(angle)\n\u001b[0;32m     33\u001b[0m y \u001b[38;5;241m=\u001b[39m circle_radius \u001b[38;5;241m*\u001b[39m turtle\u001b[38;5;241m.\u001b[39mmath\u001b[38;5;241m.\u001b[39msin(angle)\n\u001b[1;32m---> 35\u001b[0m ball\u001b[38;5;241m.\u001b[39mgoto(x, y)\n\u001b[0;32m     37\u001b[0m angle \u001b[38;5;241m+\u001b[39m\u001b[38;5;241m=\u001b[39m ball_speed\n\u001b[0;32m     39\u001b[0m \u001b[38;5;28;01mif\u001b[39;00m angle \u001b[38;5;241m>\u001b[39m\u001b[38;5;241m=\u001b[39m \u001b[38;5;241m360\u001b[39m:\n",
      "File \u001b[1;32mD:\\python\\Lib\\turtle.py:1777\u001b[0m, in \u001b[0;36mTNavigator.goto\u001b[1;34m(self, x, y)\u001b[0m\n\u001b[0;32m   1775\u001b[0m     \u001b[38;5;28mself\u001b[39m\u001b[38;5;241m.\u001b[39m_goto(Vec2D(\u001b[38;5;241m*\u001b[39mx))\n\u001b[0;32m   1776\u001b[0m \u001b[38;5;28;01melse\u001b[39;00m:\n\u001b[1;32m-> 1777\u001b[0m     \u001b[38;5;28mself\u001b[39m\u001b[38;5;241m.\u001b[39m_goto(Vec2D(x, y))\n",
      "File \u001b[1;32mD:\\python\\Lib\\turtle.py:3196\u001b[0m, in \u001b[0;36mRawTurtle._goto\u001b[1;34m(self, end)\u001b[0m\n\u001b[0;32m   3192\u001b[0m     \u001b[38;5;28;01mif\u001b[39;00m \u001b[38;5;28mself\u001b[39m\u001b[38;5;241m.\u001b[39m_drawing:\n\u001b[0;32m   3193\u001b[0m         screen\u001b[38;5;241m.\u001b[39m_drawline(\u001b[38;5;28mself\u001b[39m\u001b[38;5;241m.\u001b[39mdrawingLineItem,\n\u001b[0;32m   3194\u001b[0m                          (start, \u001b[38;5;28mself\u001b[39m\u001b[38;5;241m.\u001b[39m_position),\n\u001b[0;32m   3195\u001b[0m                          \u001b[38;5;28mself\u001b[39m\u001b[38;5;241m.\u001b[39m_pencolor, \u001b[38;5;28mself\u001b[39m\u001b[38;5;241m.\u001b[39m_pensize, top)\n\u001b[1;32m-> 3196\u001b[0m     \u001b[38;5;28mself\u001b[39m\u001b[38;5;241m.\u001b[39m_update()\n\u001b[0;32m   3197\u001b[0m \u001b[38;5;28;01mif\u001b[39;00m \u001b[38;5;28mself\u001b[39m\u001b[38;5;241m.\u001b[39m_drawing:\n\u001b[0;32m   3198\u001b[0m     screen\u001b[38;5;241m.\u001b[39m_drawline(\u001b[38;5;28mself\u001b[39m\u001b[38;5;241m.\u001b[39mdrawingLineItem, ((\u001b[38;5;241m0\u001b[39m, \u001b[38;5;241m0\u001b[39m), (\u001b[38;5;241m0\u001b[39m, \u001b[38;5;241m0\u001b[39m)),\n\u001b[0;32m   3199\u001b[0m                                    fill\u001b[38;5;241m=\u001b[39m\u001b[38;5;124m\"\u001b[39m\u001b[38;5;124m\"\u001b[39m, width\u001b[38;5;241m=\u001b[39m\u001b[38;5;28mself\u001b[39m\u001b[38;5;241m.\u001b[39m_pensize)\n",
      "File \u001b[1;32mD:\\python\\Lib\\turtle.py:2661\u001b[0m, in \u001b[0;36mRawTurtle._update\u001b[1;34m(self)\u001b[0m\n\u001b[0;32m   2659\u001b[0m     \u001b[38;5;28;01mreturn\u001b[39;00m\n\u001b[0;32m   2660\u001b[0m \u001b[38;5;28;01melif\u001b[39;00m screen\u001b[38;5;241m.\u001b[39m_tracing \u001b[38;5;241m==\u001b[39m \u001b[38;5;241m1\u001b[39m:\n\u001b[1;32m-> 2661\u001b[0m     \u001b[38;5;28mself\u001b[39m\u001b[38;5;241m.\u001b[39m_update_data()\n\u001b[0;32m   2662\u001b[0m     \u001b[38;5;28mself\u001b[39m\u001b[38;5;241m.\u001b[39m_drawturtle()\n\u001b[0;32m   2663\u001b[0m     screen\u001b[38;5;241m.\u001b[39m_update()                  \u001b[38;5;66;03m# TurtleScreenBase\u001b[39;00m\n",
      "File \u001b[1;32mD:\\python\\Lib\\turtle.py:2647\u001b[0m, in \u001b[0;36mRawTurtle._update_data\u001b[1;34m(self)\u001b[0m\n\u001b[0;32m   2646\u001b[0m \u001b[38;5;28;01mdef\u001b[39;00m \u001b[38;5;21m_update_data\u001b[39m(\u001b[38;5;28mself\u001b[39m):\n\u001b[1;32m-> 2647\u001b[0m     \u001b[38;5;28mself\u001b[39m\u001b[38;5;241m.\u001b[39mscreen\u001b[38;5;241m.\u001b[39m_incrementudc()\n\u001b[0;32m   2648\u001b[0m     \u001b[38;5;28;01mif\u001b[39;00m \u001b[38;5;28mself\u001b[39m\u001b[38;5;241m.\u001b[39mscreen\u001b[38;5;241m.\u001b[39m_updatecounter \u001b[38;5;241m!=\u001b[39m \u001b[38;5;241m0\u001b[39m:\n\u001b[0;32m   2649\u001b[0m         \u001b[38;5;28;01mreturn\u001b[39;00m\n",
      "File \u001b[1;32mD:\\python\\Lib\\turtle.py:1293\u001b[0m, in \u001b[0;36mTurtleScreen._incrementudc\u001b[1;34m(self)\u001b[0m\n\u001b[0;32m   1291\u001b[0m \u001b[38;5;28;01mif\u001b[39;00m \u001b[38;5;129;01mnot\u001b[39;00m TurtleScreen\u001b[38;5;241m.\u001b[39m_RUNNING:\n\u001b[0;32m   1292\u001b[0m     TurtleScreen\u001b[38;5;241m.\u001b[39m_RUNNING \u001b[38;5;241m=\u001b[39m \u001b[38;5;28;01mTrue\u001b[39;00m\n\u001b[1;32m-> 1293\u001b[0m     \u001b[38;5;28;01mraise\u001b[39;00m Terminator\n\u001b[0;32m   1294\u001b[0m \u001b[38;5;28;01mif\u001b[39;00m \u001b[38;5;28mself\u001b[39m\u001b[38;5;241m.\u001b[39m_tracing \u001b[38;5;241m>\u001b[39m \u001b[38;5;241m0\u001b[39m:\n\u001b[0;32m   1295\u001b[0m     \u001b[38;5;28mself\u001b[39m\u001b[38;5;241m.\u001b[39m_updatecounter \u001b[38;5;241m+\u001b[39m\u001b[38;5;241m=\u001b[39m \u001b[38;5;241m1\u001b[39m\n",
      "\u001b[1;31mTerminator\u001b[0m: "
     ]
    }
   ],
   "source": [
    "import turtle\n",
    "\n",
    "# Set up the screen\n",
    "screen = turtle.Screen()\n",
    "screen.title(\"Bouncing Ball in Circle\")\n",
    "screen.bgcolor(\"white\")\n",
    "\n",
    "# Create a turtle for the circle\n",
    "circle_turtle = turtle.Turtle()\n",
    "circle_turtle.shape(\"circle\")\n",
    "circle_turtle.color(\"blue\")\n",
    "\n",
    "# Draw the circle\n",
    "circle_turtle.penup()\n",
    "circle_turtle.goto(0, -150)\n",
    "circle_turtle.pendown()\n",
    "circle_turtle.circle(150)\n",
    "\n",
    "# Create a turtle for the ball\n",
    "ball = turtle.Turtle()\n",
    "ball.shape(\"turtle\")\n",
    "ball.color(\"red\")\n",
    "ball.penup()\n",
    "\n",
    "# Set initial position and speed\n",
    "angle = 0\n",
    "circle_radius = 150\n",
    "ball_speed = 2\n",
    "\n",
    "while True:\n",
    "    # Calculate ball position in the circle\n",
    "    x = circle_radius * turtle.math.cos(angle)\n",
    "    y = circle_radius * turtle.math.sin(angle)\n",
    "\n",
    "    ball.goto(x, y)\n",
    "\n",
    "    angle += ball_speed\n",
    "\n",
    "    if angle >= 360:\n",
    "        angle = 0"
   ]
  },
  {
   "cell_type": "code",
   "execution_count": null,
   "id": "3754604c",
   "metadata": {},
   "outputs": [],
   "source": []
  }
 ],
 "metadata": {
  "kernelspec": {
   "display_name": "Python 3 (ipykernel)",
   "language": "python",
   "name": "python3"
  },
  "language_info": {
   "codemirror_mode": {
    "name": "ipython",
    "version": 3
   },
   "file_extension": ".py",
   "mimetype": "text/x-python",
   "name": "python",
   "nbconvert_exporter": "python",
   "pygments_lexer": "ipython3",
   "version": "3.11.5"
  }
 },
 "nbformat": 4,
 "nbformat_minor": 5
}
