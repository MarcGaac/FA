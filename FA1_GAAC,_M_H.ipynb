{
  "nbformat": 4,
  "nbformat_minor": 0,
  "metadata": {
    "colab": {
      "provenance": [],
      "authorship_tag": "ABX9TyMqsd2hvWvikmqd1vPTNTSm",
      "include_colab_link": true
    },
    "kernelspec": {
      "name": "python3",
      "display_name": "Python 3"
    },
    "language_info": {
      "name": "python"
    }
  },
  "cells": [
    {
      "cell_type": "markdown",
      "metadata": {
        "id": "view-in-github",
        "colab_type": "text"
      },
      "source": [
        "<a href=\"https://colab.research.google.com/github/MarcGaac/FA/blob/main/FA1_GAAC%2C_M_H.ipynb\" target=\"_parent\"><img src=\"https://colab.research.google.com/assets/colab-badge.svg\" alt=\"Open In Colab\"/></a>"
      ]
    },
    {
      "cell_type": "markdown",
      "source": [
        "# Question 1: How many seconds are there in 42 minutes 42 seconds?"
      ],
      "metadata": {
        "id": "dK0Z0h_jNzhR"
      }
    },
    {
      "cell_type": "code",
      "execution_count": null,
      "metadata": {
        "id": "iI9EF44abgd3",
        "colab": {
          "base_uri": "https://localhost:8080/"
        },
        "outputId": "ab43d132-9a6a-4165-b816-7fda76d54848"
      },
      "outputs": [
        {
          "output_type": "stream",
          "name": "stdout",
          "text": [
            "There are 2562 seconds in 42 minutes and 42 seconds.\n"
          ]
        }
      ],
      "source": [
        "minutes = 42\n",
        "seconds = 42\n",
        "total_seconds = minutes * 60 + seconds\n",
        "print(f\"There are {total_seconds} seconds in {minutes} minutes and {seconds} seconds.\")"
      ]
    },
    {
      "cell_type": "markdown",
      "source": [
        "# Question 2: How many miles are there in 10 kilometers? Hint: there are 1.61 kilometers in a mile."
      ],
      "metadata": {
        "id": "TrK4kXkSWEUy"
      }
    },
    {
      "cell_type": "code",
      "source": [
        "kilometers = 10\n",
        "miles = kilometers / 1.61\n",
        "print(f\"There are {miles} miles in {kilometers} kilometers.\")"
      ],
      "metadata": {
        "colab": {
          "base_uri": "https://localhost:8080/"
        },
        "id": "OqTS9ElEIOC8",
        "outputId": "6fdf9fad-915d-4c0e-a886-1daf98c73edc"
      },
      "execution_count": null,
      "outputs": [
        {
          "output_type": "stream",
          "name": "stdout",
          "text": [
            "There are 6.211180124223602 miles in 10 kilometers.\n"
          ]
        }
      ]
    },
    {
      "cell_type": "markdown",
      "source": [
        "# Question 3: If you run a 10 kilometer race in 42 minutes 42 seconds, what is your average pace (time per mile in minutes and seconds)? What is your average speed in miles per hour?"
      ],
      "metadata": {
        "id": "ey_YDvKtWIID"
      }
    },
    {
      "cell_type": "code",
      "source": [
        "# Given values\n",
        "total_time_minutes = 42 + 42/60  # Total time in minutes\n",
        "total_distance_miles = 6.21371  # Total distance in miles\n",
        "\n",
        "# Calculate average pace (minutes per mile)\n",
        "average_pace_minutes = int(average_pace)\n",
        "average_pace_seconds = (average_pace - average_pace_minutes) * 60\n",
        "\n",
        "# Display the results\n",
        "print(f'Average Pace: {average_pace_minutes} min {average_pace_seconds:.0f} sec/mile')\n",
        "print(f'Average Speed: {average_speed:.2f} mph')"
      ],
      "metadata": {
        "colab": {
          "base_uri": "https://localhost:8080/"
        },
        "id": "hb4xgeRt1JPH",
        "outputId": "a7ec884d-76ff-4e40-b2aa-d0513f7174cc"
      },
      "execution_count": 2,
      "outputs": [
        {
          "output_type": "stream",
          "name": "stdout",
          "text": [
            "Average Pace: 6 min 52 sec/mile\n",
            "Average Speed: 8.73 mph\n"
          ]
        }
      ]
    }
  ]
}