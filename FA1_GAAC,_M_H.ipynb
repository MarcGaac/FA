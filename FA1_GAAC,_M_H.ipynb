{
  "nbformat": 4,
  "nbformat_minor": 0,
  "metadata": {
    "colab": {
      "provenance": [],
      "authorship_tag": "ABX9TyNFH6gHLRJkS1aYmFVWXcku",
      "include_colab_link": true
    },
    "kernelspec": {
      "name": "python3",
      "display_name": "Python 3"
    },
    "language_info": {
      "name": "python"
    }
  },
  "cells": [
    {
      "cell_type": "markdown",
      "metadata": {
        "id": "view-in-github",
        "colab_type": "text"
      },
      "source": [
        "<a href=\"https://colab.research.google.com/github/MarcGaac/FA/blob/main/FA1_GAAC%2C_M_H.ipynb\" target=\"_parent\"><img src=\"https://colab.research.google.com/assets/colab-badge.svg\" alt=\"Open In Colab\"/></a>"
      ]
    },
    {
      "cell_type": "markdown",
      "source": [
        "# Question 1: How many seconds are there in 42 minutes 42 seconds?"
      ],
      "metadata": {
        "id": "dK0Z0h_jNzhR"
      }
    },
    {
      "cell_type": "code",
      "execution_count": 1,
      "metadata": {
        "id": "iI9EF44abgd3",
        "colab": {
          "base_uri": "https://localhost:8080/"
        },
        "outputId": "ab43d132-9a6a-4165-b816-7fda76d54848"
      },
      "outputs": [
        {
          "output_type": "stream",
          "name": "stdout",
          "text": [
            "There are 2562 seconds in 42 minutes and 42 seconds.\n"
          ]
        }
      ],
      "source": [
        "minutes = 42\n",
        "seconds = 42\n",
        "total_seconds = minutes * 60 + seconds\n",
        "print(f\"There are {total_seconds} seconds in {minutes} minutes and {seconds} seconds.\")"
      ]
    },
    {
      "cell_type": "markdown",
      "source": [
        "# Question 2: How many miles are there in 10 kilometers? Hint: there are 1.61 kilometers in a mile."
      ],
      "metadata": {
        "id": "TrK4kXkSWEUy"
      }
    },
    {
      "cell_type": "code",
      "source": [
        "kilometers = 10\n",
        "miles = kilometers / 1.61\n",
        "print(f\"There are {miles} miles in {kilometers} kilometers.\")"
      ],
      "metadata": {
        "colab": {
          "base_uri": "https://localhost:8080/"
        },
        "id": "OqTS9ElEIOC8",
        "outputId": "6fdf9fad-915d-4c0e-a886-1daf98c73edc"
      },
      "execution_count": 2,
      "outputs": [
        {
          "output_type": "stream",
          "name": "stdout",
          "text": [
            "There are 6.211180124223602 miles in 10 kilometers.\n"
          ]
        }
      ]
    },
    {
      "cell_type": "markdown",
      "source": [
        "# Question 3: If you run a 10 kilometer race in 42 minutes 42 seconds, what is your average pace (time per mile in minutes and seconds)? What is your average speed in miles per hour?"
      ],
      "metadata": {
        "id": "ey_YDvKtWIID"
      }
    },
    {
      "cell_type": "code",
      "source": [
        "distance = 10 * 1.61  # 10 kilometers in miles\n",
        "time = 42 * 60 + 42  # 42 minutes and 42 seconds in seconds\n",
        "\n",
        "pace = time / distance  # time per mile in seconds\n",
        "pace_minutes = int(pace / 60)\n",
        "pace_seconds = int(pace % 60)\n",
        "\n",
        "speed = distance / time  # speed in miles per hour\n",
        "\n",
        "print(f\"Your average pace is {pace_minutes} minutes and {pace_seconds} seconds per mile.\")\n",
        "print(f\"Your average speed is {speed:.2f} miles per hour.\")"
      ],
      "metadata": {
        "colab": {
          "base_uri": "https://localhost:8080/"
        },
        "id": "LrpaXdxqIVgw",
        "outputId": "85a7ac06-29df-4f93-9f24-ffe96e28500c"
      },
      "execution_count": 3,
      "outputs": [
        {
          "output_type": "stream",
          "name": "stdout",
          "text": [
            "Your average pace is 2 minutes and 39 seconds per mile.\n",
            "Your average speed is 0.01 miles per hour.\n"
          ]
        }
      ]
    }
  ]
}